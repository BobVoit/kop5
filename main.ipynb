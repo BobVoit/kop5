{
 "cells": [
  {
   "cell_type": "markdown",
   "metadata": {},
   "source": [
    "# Вариант 3"
   ]
  },
  {
   "cell_type": "markdown",
   "metadata": {},
   "source": [
    "3. Выполнить одну итерацию цикла обучения методом обратного распространения ошибки \n",
    "многослойной бинарной однородной нейронной сети, состоящей из 2 слоёв, причем в первом\n",
    "слое находится 2 нейрона, а во втором – 1. Функция активации нейронов сети -\n",
    "линейная (k=0,6) функция. В качестве обучающей выборки использовать таблицу истинности\n",
    "для операции «штрих Шеффера» (не использовать первую строчку таблицы). Синаптические \n",
    "веса задать случайным образом"
   ]
  },
  {
   "cell_type": "markdown",
   "metadata": {},
   "source": [
    "## Задаем входные данные"
   ]
  },
  {
   "cell_type": "code",
   "execution_count": 38,
   "metadata": {},
   "outputs": [],
   "source": [
    "import random\n",
    "import math\n",
    "import numpy as np\n",
    "\n",
    "# Обучающая выборка\n",
    "# train_data = np.array([[0, 0], [0, 1], [1, 0], [1, 1]])\n",
    "train_data = np.array([\n",
    "    [0, 0, 1], \n",
    "    [0, 1, 1], \n",
    "    [1, 0, 1], \n",
    "    [1, 1, 0]\n",
    "])"
   ]
  },
  {
   "cell_type": "markdown",
   "metadata": {},
   "source": [
    "#### Функция активации"
   ]
  },
  {
   "cell_type": "code",
   "execution_count": 39,
   "metadata": {},
   "outputs": [],
   "source": [
    "def linear_func(x, k):\n",
    "    return k * x"
   ]
  },
  {
   "cell_type": "markdown",
   "metadata": {},
   "source": [
    "#### 1 шаг: зададим матрицу весов случайным образом из интервала [0,1]"
   ]
  },
  {
   "cell_type": "code",
   "execution_count": 40,
   "metadata": {},
   "outputs": [
    {
     "name": "stdout",
     "output_type": "stream",
     "text": [
      "[[0.55119456 0.40671196]\n",
      " [0.17217926 0.39909521]]\n"
     ]
    }
   ],
   "source": [
    "weights = np.random.rand(2, 2)\n",
    "print(weights)"
   ]
  },
  {
   "cell_type": "code",
   "execution_count": 41,
   "metadata": {},
   "outputs": [
    {
     "name": "stdout",
     "output_type": "stream",
     "text": [
      "[0.50665858 0.80828882]\n"
     ]
    }
   ],
   "source": [
    "weights_g = np.random.rand(2)\n",
    "print(weights_g)"
   ]
  },
  {
   "cell_type": "markdown",
   "metadata": {},
   "source": [
    "#### 2 шаг. Вектор X и D"
   ]
  },
  {
   "cell_type": "code",
   "execution_count": 42,
   "metadata": {},
   "outputs": [
    {
     "name": "stdout",
     "output_type": "stream",
     "text": [
      "X: [1 0]\n",
      "D: 1\n"
     ]
    }
   ],
   "source": [
    "x = train_data[2][:2]\n",
    "d = train_data[2][2]\n",
    "\n",
    "print(f\"X: {x}\")\n",
    "print(f\"D: {d}\")"
   ]
  },
  {
   "cell_type": "markdown",
   "metadata": {},
   "source": [
    "#### 3 шаг (прямой проход): вычисление в циклах выходов всех слоев и получение выходных значений нейронной сети (вектор Y)"
   ]
  },
  {
   "cell_type": "code",
   "execution_count": 43,
   "metadata": {},
   "outputs": [],
   "source": [
    "\n",
    "s1 = np.dot(x, weights[0])\n",
    "s2 = np.dot(x, weights[1])\n",
    "\n",
    "k = 0.6\n",
    "\n",
    "y1 = linear_func(s1, k)\n",
    "y2 = linear_func(s2, k)\n",
    "\n",
    "s3 = np.dot(np.array([y1, y2]), weights_g)\n",
    "\n",
    "y = linear_func(s3, k)"
   ]
  },
  {
   "cell_type": "markdown",
   "metadata": {},
   "source": [
    "#### 4 шаг (обратный проход): изменение весов"
   ]
  },
  {
   "cell_type": "code",
   "execution_count": 44,
   "metadata": {},
   "outputs": [
    {
     "name": "stdout",
     "output_type": "stream",
     "text": [
      "[[0.56094426 0.41322152]\n",
      " [0.17217926 0.39909521]]\n",
      "[0.53541043 0.81727017]\n"
     ]
    }
   ],
   "source": [
    "train_coef = 0.8\n",
    "\n",
    "delta_2 = (d - y) * y * (1 - y)\n",
    "\n",
    "weights_g_prev = np.array([value for value in weights_g])\n",
    "\n",
    "weights_g[0] = weights_g[0] + train_coef * delta_2 * y1\n",
    "weights_g[1] = weights_g[1] + train_coef * delta_2 * y2\n",
    "\n",
    "\n",
    "delta1_1 = y1 * (1 - y1) * delta_2 * weights_g_prev[0]\n",
    "delta1_2 = y2 * (1 - y2) * delta_2 * weights_g_prev[1]\n",
    "\n",
    "weights[0][0] = weights[0][0] + train_coef * delta1_1 * x[0]\n",
    "weights[0][1] = weights[0][1] + train_coef * delta1_2 * x[0]\n",
    "weights[1][0] = weights[1][0] + train_coef * delta1_1 * x[1]\n",
    "weights[1][1] = weights[1][1] + train_coef * delta1_2 * x[1]\n",
    "\n",
    "\n",
    "print(weights)\n",
    "\n",
    "print(weights_g)"
   ]
  },
  {
   "cell_type": "markdown",
   "metadata": {},
   "source": [
    "### 5 шаг:"
   ]
  },
  {
   "cell_type": "code",
   "execution_count": 45,
   "metadata": {},
   "outputs": [
    {
     "name": "stdout",
     "output_type": "stream",
     "text": [
      "0.8493623110009048\n"
     ]
    }
   ],
   "source": [
    "eps = (d - y)\n",
    "print(eps)"
   ]
  },
  {
   "cell_type": "markdown",
   "metadata": {},
   "source": []
  }
 ],
 "metadata": {
  "kernelspec": {
   "display_name": "Python 3",
   "language": "python",
   "name": "python3"
  },
  "language_info": {
   "codemirror_mode": {
    "name": "ipython",
    "version": 3
   },
   "file_extension": ".py",
   "mimetype": "text/x-python",
   "name": "python",
   "nbconvert_exporter": "python",
   "pygments_lexer": "ipython3",
   "version": "3.11.5"
  }
 },
 "nbformat": 4,
 "nbformat_minor": 2
}
